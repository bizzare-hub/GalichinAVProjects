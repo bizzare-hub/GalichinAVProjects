{
 "cells": [
  {
   "cell_type": "code",
   "execution_count": 1,
   "metadata": {},
   "outputs": [],
   "source": [
    "import numpy as np\n",
    "import pandas as pd"
   ]
  },
  {
   "cell_type": "code",
   "execution_count": 2,
   "metadata": {},
   "outputs": [],
   "source": [
    "train = pd.read_csv('train.csv')\n",
    "test = pd.read_csv('test.csv')"
   ]
  },
  {
   "cell_type": "code",
   "execution_count": 3,
   "metadata": {},
   "outputs": [
    {
     "data": {
      "text/html": [
       "<div>\n",
       "<style scoped>\n",
       "    .dataframe tbody tr th:only-of-type {\n",
       "        vertical-align: middle;\n",
       "    }\n",
       "\n",
       "    .dataframe tbody tr th {\n",
       "        vertical-align: top;\n",
       "    }\n",
       "\n",
       "    .dataframe thead th {\n",
       "        text-align: right;\n",
       "    }\n",
       "</style>\n",
       "<table border=\"1\" class=\"dataframe\">\n",
       "  <thead>\n",
       "    <tr style=\"text-align: right;\">\n",
       "      <th></th>\n",
       "      <th>PassengerId</th>\n",
       "      <th>Survived</th>\n",
       "      <th>Pclass</th>\n",
       "      <th>Name</th>\n",
       "      <th>Sex</th>\n",
       "      <th>Age</th>\n",
       "      <th>SibSp</th>\n",
       "      <th>Parch</th>\n",
       "      <th>Ticket</th>\n",
       "      <th>Fare</th>\n",
       "      <th>Cabin</th>\n",
       "      <th>Embarked</th>\n",
       "    </tr>\n",
       "  </thead>\n",
       "  <tbody>\n",
       "    <tr>\n",
       "      <th>0</th>\n",
       "      <td>1</td>\n",
       "      <td>0</td>\n",
       "      <td>3</td>\n",
       "      <td>Braund, Mr. Owen Harris</td>\n",
       "      <td>male</td>\n",
       "      <td>22.0</td>\n",
       "      <td>1</td>\n",
       "      <td>0</td>\n",
       "      <td>A/5 21171</td>\n",
       "      <td>7.2500</td>\n",
       "      <td>NaN</td>\n",
       "      <td>S</td>\n",
       "    </tr>\n",
       "    <tr>\n",
       "      <th>1</th>\n",
       "      <td>2</td>\n",
       "      <td>1</td>\n",
       "      <td>1</td>\n",
       "      <td>Cumings, Mrs. John Bradley (Florence Briggs Th...</td>\n",
       "      <td>female</td>\n",
       "      <td>38.0</td>\n",
       "      <td>1</td>\n",
       "      <td>0</td>\n",
       "      <td>PC 17599</td>\n",
       "      <td>71.2833</td>\n",
       "      <td>C85</td>\n",
       "      <td>C</td>\n",
       "    </tr>\n",
       "    <tr>\n",
       "      <th>2</th>\n",
       "      <td>3</td>\n",
       "      <td>1</td>\n",
       "      <td>3</td>\n",
       "      <td>Heikkinen, Miss. Laina</td>\n",
       "      <td>female</td>\n",
       "      <td>26.0</td>\n",
       "      <td>0</td>\n",
       "      <td>0</td>\n",
       "      <td>STON/O2. 3101282</td>\n",
       "      <td>7.9250</td>\n",
       "      <td>NaN</td>\n",
       "      <td>S</td>\n",
       "    </tr>\n",
       "    <tr>\n",
       "      <th>3</th>\n",
       "      <td>4</td>\n",
       "      <td>1</td>\n",
       "      <td>1</td>\n",
       "      <td>Futrelle, Mrs. Jacques Heath (Lily May Peel)</td>\n",
       "      <td>female</td>\n",
       "      <td>35.0</td>\n",
       "      <td>1</td>\n",
       "      <td>0</td>\n",
       "      <td>113803</td>\n",
       "      <td>53.1000</td>\n",
       "      <td>C123</td>\n",
       "      <td>S</td>\n",
       "    </tr>\n",
       "    <tr>\n",
       "      <th>4</th>\n",
       "      <td>5</td>\n",
       "      <td>0</td>\n",
       "      <td>3</td>\n",
       "      <td>Allen, Mr. William Henry</td>\n",
       "      <td>male</td>\n",
       "      <td>35.0</td>\n",
       "      <td>0</td>\n",
       "      <td>0</td>\n",
       "      <td>373450</td>\n",
       "      <td>8.0500</td>\n",
       "      <td>NaN</td>\n",
       "      <td>S</td>\n",
       "    </tr>\n",
       "  </tbody>\n",
       "</table>\n",
       "</div>"
      ],
      "text/plain": [
       "   PassengerId  Survived  Pclass  \\\n",
       "0            1         0       3   \n",
       "1            2         1       1   \n",
       "2            3         1       3   \n",
       "3            4         1       1   \n",
       "4            5         0       3   \n",
       "\n",
       "                                                Name     Sex   Age  SibSp  \\\n",
       "0                            Braund, Mr. Owen Harris    male  22.0      1   \n",
       "1  Cumings, Mrs. John Bradley (Florence Briggs Th...  female  38.0      1   \n",
       "2                             Heikkinen, Miss. Laina  female  26.0      0   \n",
       "3       Futrelle, Mrs. Jacques Heath (Lily May Peel)  female  35.0      1   \n",
       "4                           Allen, Mr. William Henry    male  35.0      0   \n",
       "\n",
       "   Parch            Ticket     Fare Cabin Embarked  \n",
       "0      0         A/5 21171   7.2500   NaN        S  \n",
       "1      0          PC 17599  71.2833   C85        C  \n",
       "2      0  STON/O2. 3101282   7.9250   NaN        S  \n",
       "3      0            113803  53.1000  C123        S  \n",
       "4      0            373450   8.0500   NaN        S  "
      ]
     },
     "execution_count": 3,
     "metadata": {},
     "output_type": "execute_result"
    }
   ],
   "source": [
    "train.head()"
   ]
  },
  {
   "cell_type": "code",
   "execution_count": 4,
   "metadata": {},
   "outputs": [],
   "source": [
    "#Удаляем Name, т.к. бесполезно\n",
    "train.drop('Name', axis=1, inplace=True)\n",
    "test.drop('Name', axis=1, inplace=True)"
   ]
  },
  {
   "cell_type": "markdown",
   "metadata": {},
   "source": [
    "### Смотрим, какие признаки содержат пропуски"
   ]
  },
  {
   "cell_type": "code",
   "execution_count": 5,
   "metadata": {},
   "outputs": [],
   "source": [
    "total = train.isnull().sum().sort_values(ascending=False)\n",
    "percent = total / train.shape[0] * 100\n",
    "statistic = pd.concat([total, percent], axis=1, keys=['Total', 'Percent'])"
   ]
  },
  {
   "cell_type": "code",
   "execution_count": 6,
   "metadata": {},
   "outputs": [
    {
     "data": {
      "text/html": [
       "<div>\n",
       "<style scoped>\n",
       "    .dataframe tbody tr th:only-of-type {\n",
       "        vertical-align: middle;\n",
       "    }\n",
       "\n",
       "    .dataframe tbody tr th {\n",
       "        vertical-align: top;\n",
       "    }\n",
       "\n",
       "    .dataframe thead th {\n",
       "        text-align: right;\n",
       "    }\n",
       "</style>\n",
       "<table border=\"1\" class=\"dataframe\">\n",
       "  <thead>\n",
       "    <tr style=\"text-align: right;\">\n",
       "      <th></th>\n",
       "      <th>Total</th>\n",
       "      <th>Percent</th>\n",
       "    </tr>\n",
       "  </thead>\n",
       "  <tbody>\n",
       "    <tr>\n",
       "      <th>Cabin</th>\n",
       "      <td>687</td>\n",
       "      <td>77.104377</td>\n",
       "    </tr>\n",
       "    <tr>\n",
       "      <th>Age</th>\n",
       "      <td>177</td>\n",
       "      <td>19.865320</td>\n",
       "    </tr>\n",
       "    <tr>\n",
       "      <th>Embarked</th>\n",
       "      <td>2</td>\n",
       "      <td>0.224467</td>\n",
       "    </tr>\n",
       "    <tr>\n",
       "      <th>Fare</th>\n",
       "      <td>0</td>\n",
       "      <td>0.000000</td>\n",
       "    </tr>\n",
       "    <tr>\n",
       "      <th>Ticket</th>\n",
       "      <td>0</td>\n",
       "      <td>0.000000</td>\n",
       "    </tr>\n",
       "  </tbody>\n",
       "</table>\n",
       "</div>"
      ],
      "text/plain": [
       "          Total    Percent\n",
       "Cabin       687  77.104377\n",
       "Age         177  19.865320\n",
       "Embarked      2   0.224467\n",
       "Fare          0   0.000000\n",
       "Ticket        0   0.000000"
      ]
     },
     "execution_count": 6,
     "metadata": {},
     "output_type": "execute_result"
    }
   ],
   "source": [
    "statistic.head()"
   ]
  },
  {
   "cell_type": "code",
   "execution_count": 7,
   "metadata": {},
   "outputs": [],
   "source": [
    "#Удаляем Cabin (слишком много пропусков)\n",
    "train.drop('Cabin', axis=1, inplace=True)\n",
    "test.drop('Cabin', axis=1, inplace=True)"
   ]
  },
  {
   "cell_type": "code",
   "execution_count": 8,
   "metadata": {},
   "outputs": [],
   "source": [
    "#Обьединим кол-во родственников на корабле в один признак\n",
    "\n",
    "train['family_members_on_board'] = train['SibSp'] + train['Parch']\n",
    "train.drop(['SibSp', 'Parch', 'Embarked', 'Ticket'], axis=1, inplace=True)\n",
    "\n",
    "test['family_members_on_board'] = test['SibSp'] + test['Parch']\n",
    "test.drop(['SibSp', 'Parch', 'Embarked', 'Ticket'], axis=1, inplace=True)"
   ]
  },
  {
   "cell_type": "code",
   "execution_count": 9,
   "metadata": {},
   "outputs": [],
   "source": [
    "train.fillna(0,inplace=True)\n",
    "test.fillna(0,inplace=True)"
   ]
  },
  {
   "cell_type": "code",
   "execution_count": 10,
   "metadata": {},
   "outputs": [
    {
     "data": {
      "text/html": [
       "<div>\n",
       "<style scoped>\n",
       "    .dataframe tbody tr th:only-of-type {\n",
       "        vertical-align: middle;\n",
       "    }\n",
       "\n",
       "    .dataframe tbody tr th {\n",
       "        vertical-align: top;\n",
       "    }\n",
       "\n",
       "    .dataframe thead th {\n",
       "        text-align: right;\n",
       "    }\n",
       "</style>\n",
       "<table border=\"1\" class=\"dataframe\">\n",
       "  <thead>\n",
       "    <tr style=\"text-align: right;\">\n",
       "      <th></th>\n",
       "      <th>PassengerId</th>\n",
       "      <th>Survived</th>\n",
       "      <th>Pclass</th>\n",
       "      <th>Sex</th>\n",
       "      <th>Age</th>\n",
       "      <th>Fare</th>\n",
       "      <th>family_members_on_board</th>\n",
       "    </tr>\n",
       "  </thead>\n",
       "  <tbody>\n",
       "    <tr>\n",
       "      <th>0</th>\n",
       "      <td>1</td>\n",
       "      <td>0</td>\n",
       "      <td>3</td>\n",
       "      <td>male</td>\n",
       "      <td>22.0</td>\n",
       "      <td>7.2500</td>\n",
       "      <td>1</td>\n",
       "    </tr>\n",
       "    <tr>\n",
       "      <th>1</th>\n",
       "      <td>2</td>\n",
       "      <td>1</td>\n",
       "      <td>1</td>\n",
       "      <td>female</td>\n",
       "      <td>38.0</td>\n",
       "      <td>71.2833</td>\n",
       "      <td>1</td>\n",
       "    </tr>\n",
       "    <tr>\n",
       "      <th>2</th>\n",
       "      <td>3</td>\n",
       "      <td>1</td>\n",
       "      <td>3</td>\n",
       "      <td>female</td>\n",
       "      <td>26.0</td>\n",
       "      <td>7.9250</td>\n",
       "      <td>0</td>\n",
       "    </tr>\n",
       "    <tr>\n",
       "      <th>3</th>\n",
       "      <td>4</td>\n",
       "      <td>1</td>\n",
       "      <td>1</td>\n",
       "      <td>female</td>\n",
       "      <td>35.0</td>\n",
       "      <td>53.1000</td>\n",
       "      <td>1</td>\n",
       "    </tr>\n",
       "    <tr>\n",
       "      <th>4</th>\n",
       "      <td>5</td>\n",
       "      <td>0</td>\n",
       "      <td>3</td>\n",
       "      <td>male</td>\n",
       "      <td>35.0</td>\n",
       "      <td>8.0500</td>\n",
       "      <td>0</td>\n",
       "    </tr>\n",
       "  </tbody>\n",
       "</table>\n",
       "</div>"
      ],
      "text/plain": [
       "   PassengerId  Survived  Pclass     Sex   Age     Fare  \\\n",
       "0            1         0       3    male  22.0   7.2500   \n",
       "1            2         1       1  female  38.0  71.2833   \n",
       "2            3         1       3  female  26.0   7.9250   \n",
       "3            4         1       1  female  35.0  53.1000   \n",
       "4            5         0       3    male  35.0   8.0500   \n",
       "\n",
       "   family_members_on_board  \n",
       "0                        1  \n",
       "1                        1  \n",
       "2                        0  \n",
       "3                        1  \n",
       "4                        0  "
      ]
     },
     "execution_count": 10,
     "metadata": {},
     "output_type": "execute_result"
    }
   ],
   "source": [
    "train.head()"
   ]
  },
  {
   "cell_type": "code",
   "execution_count": 11,
   "metadata": {},
   "outputs": [
    {
     "name": "stderr",
     "output_type": "stream",
     "text": [
      "/Users/avgalichin/anaconda3/lib/python3.7/site-packages/ipykernel_launcher.py:1: SettingWithCopyWarning: \n",
      "A value is trying to be set on a copy of a slice from a DataFrame\n",
      "\n",
      "See the caveats in the documentation: https://pandas.pydata.org/pandas-docs/stable/user_guide/indexing.html#returning-a-view-versus-a-copy\n",
      "  \"\"\"Entry point for launching an IPython kernel.\n",
      "/Users/avgalichin/anaconda3/lib/python3.7/site-packages/ipykernel_launcher.py:2: SettingWithCopyWarning: \n",
      "A value is trying to be set on a copy of a slice from a DataFrame\n",
      "\n",
      "See the caveats in the documentation: https://pandas.pydata.org/pandas-docs/stable/user_guide/indexing.html#returning-a-view-versus-a-copy\n",
      "  \n",
      "/Users/avgalichin/anaconda3/lib/python3.7/site-packages/ipykernel_launcher.py:4: SettingWithCopyWarning: \n",
      "A value is trying to be set on a copy of a slice from a DataFrame\n",
      "\n",
      "See the caveats in the documentation: https://pandas.pydata.org/pandas-docs/stable/user_guide/indexing.html#returning-a-view-versus-a-copy\n",
      "  after removing the cwd from sys.path.\n",
      "/Users/avgalichin/anaconda3/lib/python3.7/site-packages/ipykernel_launcher.py:5: SettingWithCopyWarning: \n",
      "A value is trying to be set on a copy of a slice from a DataFrame\n",
      "\n",
      "See the caveats in the documentation: https://pandas.pydata.org/pandas-docs/stable/user_guide/indexing.html#returning-a-view-versus-a-copy\n",
      "  \"\"\"\n"
     ]
    }
   ],
   "source": [
    "train['Sex'][train['Sex'] == 'male'] = 0\n",
    "train['Sex'][train['Sex'] == 'female'] = 1\n",
    "\n",
    "test['Sex'][test['Sex'] == 'male'] = 0\n",
    "test['Sex'][test['Sex'] == 'female'] = 1"
   ]
  },
  {
   "cell_type": "markdown",
   "metadata": {},
   "source": [
    "### Кодируем Embarked при помощи one-hot-encoder'а"
   ]
  },
  {
   "cell_type": "code",
   "execution_count": 12,
   "metadata": {},
   "outputs": [],
   "source": [
    "X = train.drop('Survived', axis=1)\n",
    "Y = train['Survived']"
   ]
  },
  {
   "cell_type": "code",
   "execution_count": 13,
   "metadata": {},
   "outputs": [],
   "source": [
    "from sklearn.model_selection import train_test_split"
   ]
  },
  {
   "cell_type": "code",
   "execution_count": 14,
   "metadata": {},
   "outputs": [],
   "source": [
    "X_train, X_test, Y_train, Y_test = train_test_split(X, Y, test_size=0.2, random_state=40)"
   ]
  },
  {
   "cell_type": "code",
   "execution_count": 15,
   "metadata": {},
   "outputs": [],
   "source": [
    "#pip install catboost"
   ]
  },
  {
   "cell_type": "markdown",
   "metadata": {},
   "source": [
    "### Модель"
   ]
  },
  {
   "cell_type": "code",
   "execution_count": 16,
   "metadata": {},
   "outputs": [],
   "source": [
    "from catboost import CatBoostClassifier"
   ]
  },
  {
   "cell_type": "code",
   "execution_count": 17,
   "metadata": {},
   "outputs": [],
   "source": [
    "clf = CatBoostClassifier(eval_metric='Accuracy', use_best_model=True, random_seed=42)"
   ]
  },
  {
   "cell_type": "code",
   "execution_count": 18,
   "metadata": {},
   "outputs": [
    {
     "name": "stdout",
     "output_type": "stream",
     "text": [
      "Learning rate set to 0.029139\n",
      "0:\tlearn: 0.7851124\ttest: 0.7932961\tbest: 0.7932961 (0)\ttotal: 52.3ms\tremaining: 52.3s\n",
      "1:\tlearn: 0.7823034\ttest: 0.8100559\tbest: 0.8100559 (1)\ttotal: 53.7ms\tremaining: 26.8s\n",
      "2:\tlearn: 0.8089888\ttest: 0.8324022\tbest: 0.8324022 (2)\ttotal: 55.6ms\tremaining: 18.5s\n",
      "3:\tlearn: 0.8160112\ttest: 0.8268156\tbest: 0.8324022 (2)\ttotal: 57.1ms\tremaining: 14.2s\n",
      "4:\tlearn: 0.8160112\ttest: 0.8268156\tbest: 0.8324022 (2)\ttotal: 58.2ms\tremaining: 11.6s\n",
      "5:\tlearn: 0.8075843\ttest: 0.8268156\tbest: 0.8324022 (2)\ttotal: 59.9ms\tremaining: 9.91s\n",
      "6:\tlearn: 0.8075843\ttest: 0.8268156\tbest: 0.8324022 (2)\ttotal: 61ms\tremaining: 8.65s\n",
      "7:\tlearn: 0.8075843\ttest: 0.8268156\tbest: 0.8324022 (2)\ttotal: 62ms\tremaining: 7.69s\n",
      "8:\tlearn: 0.8075843\ttest: 0.8268156\tbest: 0.8324022 (2)\ttotal: 63.5ms\tremaining: 6.99s\n",
      "9:\tlearn: 0.8075843\ttest: 0.8268156\tbest: 0.8324022 (2)\ttotal: 64.5ms\tremaining: 6.38s\n",
      "10:\tlearn: 0.8075843\ttest: 0.8268156\tbest: 0.8324022 (2)\ttotal: 65.5ms\tremaining: 5.89s\n",
      "11:\tlearn: 0.8075843\ttest: 0.8268156\tbest: 0.8324022 (2)\ttotal: 66.4ms\tremaining: 5.46s\n",
      "12:\tlearn: 0.8075843\ttest: 0.8268156\tbest: 0.8324022 (2)\ttotal: 67.2ms\tremaining: 5.11s\n",
      "13:\tlearn: 0.8075843\ttest: 0.8268156\tbest: 0.8324022 (2)\ttotal: 68.5ms\tremaining: 4.83s\n",
      "14:\tlearn: 0.8075843\ttest: 0.8268156\tbest: 0.8324022 (2)\ttotal: 70.2ms\tremaining: 4.61s\n",
      "15:\tlearn: 0.8075843\ttest: 0.8268156\tbest: 0.8324022 (2)\ttotal: 71.7ms\tremaining: 4.41s\n",
      "16:\tlearn: 0.8075843\ttest: 0.8268156\tbest: 0.8324022 (2)\ttotal: 72.9ms\tremaining: 4.21s\n",
      "17:\tlearn: 0.8089888\ttest: 0.8268156\tbest: 0.8324022 (2)\ttotal: 74ms\tremaining: 4.04s\n",
      "18:\tlearn: 0.8089888\ttest: 0.8268156\tbest: 0.8324022 (2)\ttotal: 75.5ms\tremaining: 3.9s\n",
      "19:\tlearn: 0.8089888\ttest: 0.8268156\tbest: 0.8324022 (2)\ttotal: 76.4ms\tremaining: 3.74s\n",
      "20:\tlearn: 0.8075843\ttest: 0.8268156\tbest: 0.8324022 (2)\ttotal: 77.3ms\tremaining: 3.6s\n",
      "21:\tlearn: 0.8075843\ttest: 0.8268156\tbest: 0.8324022 (2)\ttotal: 78.5ms\tremaining: 3.49s\n",
      "22:\tlearn: 0.8075843\ttest: 0.8268156\tbest: 0.8324022 (2)\ttotal: 79.5ms\tremaining: 3.38s\n",
      "23:\tlearn: 0.8075843\ttest: 0.8268156\tbest: 0.8324022 (2)\ttotal: 80.4ms\tremaining: 3.27s\n",
      "24:\tlearn: 0.8075843\ttest: 0.8268156\tbest: 0.8324022 (2)\ttotal: 81.2ms\tremaining: 3.17s\n",
      "25:\tlearn: 0.8075843\ttest: 0.8268156\tbest: 0.8324022 (2)\ttotal: 82.3ms\tremaining: 3.08s\n",
      "26:\tlearn: 0.8075843\ttest: 0.8268156\tbest: 0.8324022 (2)\ttotal: 83.6ms\tremaining: 3.01s\n",
      "27:\tlearn: 0.8075843\ttest: 0.8268156\tbest: 0.8324022 (2)\ttotal: 85.1ms\tremaining: 2.95s\n",
      "28:\tlearn: 0.8089888\ttest: 0.8268156\tbest: 0.8324022 (2)\ttotal: 86.4ms\tremaining: 2.89s\n",
      "29:\tlearn: 0.8089888\ttest: 0.8268156\tbest: 0.8324022 (2)\ttotal: 87.5ms\tremaining: 2.83s\n",
      "30:\tlearn: 0.8089888\ttest: 0.8268156\tbest: 0.8324022 (2)\ttotal: 88.3ms\tremaining: 2.76s\n",
      "31:\tlearn: 0.8188202\ttest: 0.8324022\tbest: 0.8324022 (2)\ttotal: 89.5ms\tremaining: 2.71s\n",
      "32:\tlearn: 0.8188202\ttest: 0.8324022\tbest: 0.8324022 (2)\ttotal: 90.6ms\tremaining: 2.65s\n",
      "33:\tlearn: 0.8244382\ttest: 0.8324022\tbest: 0.8324022 (2)\ttotal: 91.7ms\tremaining: 2.61s\n",
      "34:\tlearn: 0.8272472\ttest: 0.8324022\tbest: 0.8324022 (2)\ttotal: 92.8ms\tremaining: 2.56s\n",
      "35:\tlearn: 0.8258427\ttest: 0.8324022\tbest: 0.8324022 (2)\ttotal: 93.9ms\tremaining: 2.52s\n",
      "36:\tlearn: 0.8258427\ttest: 0.8324022\tbest: 0.8324022 (2)\ttotal: 95.2ms\tremaining: 2.48s\n",
      "37:\tlearn: 0.8272472\ttest: 0.8324022\tbest: 0.8324022 (2)\ttotal: 96.5ms\tremaining: 2.44s\n",
      "38:\tlearn: 0.8258427\ttest: 0.8324022\tbest: 0.8324022 (2)\ttotal: 97.6ms\tremaining: 2.4s\n",
      "39:\tlearn: 0.8258427\ttest: 0.8324022\tbest: 0.8324022 (2)\ttotal: 99ms\tremaining: 2.38s\n",
      "40:\tlearn: 0.8258427\ttest: 0.8324022\tbest: 0.8324022 (2)\ttotal: 99.9ms\tremaining: 2.33s\n",
      "41:\tlearn: 0.8286517\ttest: 0.8268156\tbest: 0.8324022 (2)\ttotal: 101ms\tremaining: 2.31s\n",
      "42:\tlearn: 0.8300562\ttest: 0.8268156\tbest: 0.8324022 (2)\ttotal: 102ms\tremaining: 2.27s\n",
      "43:\tlearn: 0.8286517\ttest: 0.8268156\tbest: 0.8324022 (2)\ttotal: 103ms\tremaining: 2.24s\n",
      "44:\tlearn: 0.8300562\ttest: 0.8268156\tbest: 0.8324022 (2)\ttotal: 104ms\tremaining: 2.21s\n",
      "45:\tlearn: 0.8272472\ttest: 0.8268156\tbest: 0.8324022 (2)\ttotal: 105ms\tremaining: 2.18s\n",
      "46:\tlearn: 0.8286517\ttest: 0.8268156\tbest: 0.8324022 (2)\ttotal: 106ms\tremaining: 2.15s\n",
      "47:\tlearn: 0.8328652\ttest: 0.8324022\tbest: 0.8324022 (2)\ttotal: 107ms\tremaining: 2.13s\n",
      "48:\tlearn: 0.8342697\ttest: 0.8324022\tbest: 0.8324022 (2)\ttotal: 108ms\tremaining: 2.1s\n",
      "49:\tlearn: 0.8384831\ttest: 0.8324022\tbest: 0.8324022 (2)\ttotal: 109ms\tremaining: 2.08s\n",
      "50:\tlearn: 0.8398876\ttest: 0.8324022\tbest: 0.8324022 (2)\ttotal: 111ms\tremaining: 2.06s\n",
      "51:\tlearn: 0.8426966\ttest: 0.8324022\tbest: 0.8324022 (2)\ttotal: 111ms\tremaining: 2.03s\n",
      "52:\tlearn: 0.8426966\ttest: 0.8324022\tbest: 0.8324022 (2)\ttotal: 113ms\tremaining: 2.01s\n",
      "Stopped by overfitting detector  (50 iterations wait)\n",
      "\n",
      "bestTest = 0.8324022346\n",
      "bestIteration = 2\n",
      "\n",
      "Shrink model to first 3 iterations.\n"
     ]
    },
    {
     "data": {
      "text/plain": [
       "<catboost.core.CatBoostClassifier at 0x130c8df90>"
      ]
     },
     "execution_count": 18,
     "metadata": {},
     "output_type": "execute_result"
    }
   ],
   "source": [
    "clf.fit(X_train, Y_train, eval_set=(X_test, Y_test), early_stopping_rounds=50)"
   ]
  },
  {
   "cell_type": "markdown",
   "metadata": {},
   "source": [
    "### Submission"
   ]
  },
  {
   "cell_type": "code",
   "execution_count": 19,
   "metadata": {},
   "outputs": [],
   "source": [
    "test_id = test.PassengerId\n",
    "pred = clf.predict(test)"
   ]
  },
  {
   "cell_type": "code",
   "execution_count": 20,
   "metadata": {},
   "outputs": [],
   "source": [
    "submission = pd.DataFrame()\n",
    "submission['PassengerId'] = test_id\n",
    "submission['Survived'] = pred.astype(np.int)\n",
    "\n",
    "submission.to_csv('TitanicSubmission.csv', index=False)"
   ]
  }
 ],
 "metadata": {
  "kernelspec": {
   "display_name": "Python 3",
   "language": "python",
   "name": "python3"
  },
  "language_info": {
   "codemirror_mode": {
    "name": "ipython",
    "version": 3
   },
   "file_extension": ".py",
   "mimetype": "text/x-python",
   "name": "python",
   "nbconvert_exporter": "python",
   "pygments_lexer": "ipython3",
   "version": "3.7.7"
  }
 },
 "nbformat": 4,
 "nbformat_minor": 4
}
