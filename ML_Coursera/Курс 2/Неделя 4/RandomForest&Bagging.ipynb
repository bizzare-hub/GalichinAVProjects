{
 "cells": [
  {
   "cell_type": "code",
   "execution_count": 2,
   "metadata": {},
   "outputs": [],
   "source": [
    "from sklearn.datasets import load_digits\n",
    "from sklearn.tree import DecisionTreeClassifier\n",
    "from sklearn.model_selection import cross_val_score\n",
    "from sklearn import ensemble\n",
    "import numpy as np"
   ]
  },
  {
   "cell_type": "code",
   "execution_count": 3,
   "metadata": {},
   "outputs": [
    {
     "name": "stdout",
     "output_type": "stream",
     "text": [
      "Populating the interactive namespace from numpy and matplotlib\n"
     ]
    }
   ],
   "source": [
    "%pylab inline"
   ]
  },
  {
   "cell_type": "markdown",
   "metadata": {},
   "source": [
    "## Загружаем датасет "
   ]
  },
  {
   "cell_type": "code",
   "execution_count": 4,
   "metadata": {},
   "outputs": [],
   "source": [
    "digits = load_digits()"
   ]
  },
  {
   "cell_type": "markdown",
   "metadata": {},
   "source": [
    "## Подготавливаем матрицы признаков и ответов"
   ]
  },
  {
   "cell_type": "code",
   "execution_count": 5,
   "metadata": {},
   "outputs": [],
   "source": [
    "X = digits.data\n",
    "y = digits.target"
   ]
  },
  {
   "cell_type": "code",
   "execution_count": 7,
   "metadata": {},
   "outputs": [
    {
     "name": "stdout",
     "output_type": "stream",
     "text": [
      "[[ 0.  0.  5. ...  0.  0.  0.]\n",
      " [ 0.  0.  0. ... 10.  0.  0.]\n",
      " [ 0.  0.  0. ... 16.  9.  0.]\n",
      " ...\n",
      " [ 0.  0.  1. ...  6.  0.  0.]\n",
      " [ 0.  0.  2. ... 12.  0.  0.]\n",
      " [ 0.  0. 10. ... 12.  1.  0.]]\n",
      "[0 1 2 ... 8 9 8]\n"
     ]
    }
   ],
   "source": [
    "print X\n",
    "print y"
   ]
  },
  {
   "cell_type": "markdown",
   "metadata": {},
   "source": [
    "## Функция для записи ответа"
   ]
  },
  {
   "cell_type": "code",
   "execution_count": 6,
   "metadata": {},
   "outputs": [],
   "source": [
    "def write_answer(ans, file_name):\n",
    "    with open(file_name, \"w\") as fout:\n",
    "        fout.write(str (ans))"
   ]
  },
  {
   "cell_type": "markdown",
   "metadata": {},
   "source": [
    "## Задание 1\n",
    "\n",
    "Создайте DecisionTreeClassifier с настройками по умолчанию и измерьте качество его работы с помощью cross_val_score. Эта величина и будет ответом в пункте 1."
   ]
  },
  {
   "cell_type": "code",
   "execution_count": 54,
   "metadata": {},
   "outputs": [],
   "source": [
    "tree = DecisionTreeClassifier()"
   ]
  },
  {
   "cell_type": "code",
   "execution_count": 8,
   "metadata": {},
   "outputs": [],
   "source": [
    "scoreCV = cross_val_score(tree, X, y, cv = 10)"
   ]
  },
  {
   "cell_type": "code",
   "execution_count": 9,
   "metadata": {},
   "outputs": [
    {
     "name": "stdout",
     "output_type": "stream",
     "text": [
      "score для решающего дерева:\n",
      "0.8325246252339266\n"
     ]
    }
   ],
   "source": [
    "print \"score для решающего дерева:\"\n",
    "print scoreCV.mean() # Ответ на 1 вопрос\n",
    "\n",
    "write_answer(scoreCV.mean(), \"task_1\")"
   ]
  },
  {
   "cell_type": "markdown",
   "metadata": {},
   "source": [
    "## Задание 2\n",
    "Воспользуйтесь BaggingClassifier из sklearn.ensemble, чтобы обучить бэггинг над DecisionTreeClassifier. Используйте в BaggingClassifier параметры по умолчанию, задав только количество деревьев равным 100.\n",
    "\n",
    "Качество классификации новой модели - ответ в пункте 2."
   ]
  },
  {
   "cell_type": "code",
   "execution_count": 55,
   "metadata": {},
   "outputs": [],
   "source": [
    "bagging_tree = ensemble.BaggingClassifier(tree, n_estimators = 100)"
   ]
  },
  {
   "cell_type": "code",
   "execution_count": 56,
   "metadata": {},
   "outputs": [],
   "source": [
    "scoreBagging = cross_val_score(bagging_tree, X, y, cv = 10)"
   ]
  },
  {
   "cell_type": "code",
   "execution_count": 57,
   "metadata": {},
   "outputs": [
    {
     "name": "stdout",
     "output_type": "stream",
     "text": [
      "score для бэггинга:\n",
      "0.9265917001566013\n"
     ]
    }
   ],
   "source": [
    "print \"score для бэггинга:\"\n",
    "print scoreBagging.mean() # Ответ на 2 вопрос\n",
    "\n",
    "write_answer(scoreBagging.mean(), \"task_2\")"
   ]
  },
  {
   "cell_type": "markdown",
   "metadata": {},
   "source": [
    "## Задание 3\n",
    "Теперь изучите параметры BaggingClassifier и выберите их такими, чтобы каждый базовый алгоритм обучался не на всех d признаках, а на d^(1/2)\n",
    "​\t случайных признаков. Качество работы получившегося классификатора - ответ в пункте 3. Корень из числа признаков - часто используемая эвристика в задачах классификации, в задачах регрессии же часто берут число признаков, деленное на три."
   ]
  },
  {
   "cell_type": "code",
   "execution_count": 13,
   "metadata": {},
   "outputs": [],
   "source": [
    "features = (int) (np.sqrt(X.shape[1]))\n",
    "bagging_tree = ensemble.BaggingClassifier(tree, n_estimators = 100, max_features = features)"
   ]
  },
  {
   "cell_type": "code",
   "execution_count": 14,
   "metadata": {},
   "outputs": [],
   "source": [
    "scoreBagging = cross_val_score(bagging_tree, X, y, cv = 10)"
   ]
  },
  {
   "cell_type": "code",
   "execution_count": 15,
   "metadata": {},
   "outputs": [
    {
     "name": "stdout",
     "output_type": "stream",
     "text": [
      "score для бэггинга с случайными признаками (которые выбираются для дерева):\n",
      "0.935992567862416\n"
     ]
    }
   ],
   "source": [
    "print \"score для бэггинга с случайными признаками (которые выбираются для дерева):\"\n",
    "print scoreBagging.mean() # Ответ на 3 вопрос\n",
    "\n",
    "write_answer(scoreBagging.mean(), \"task_3\")"
   ]
  },
  {
   "cell_type": "markdown",
   "metadata": {},
   "source": [
    "## Задание 4\n",
    "Наконец, давайте попробуем выбирать случайные признаки не один раз на все дерево, а при построении каждой вершины дерева. Сделать это несложно: нужно убрать выбор случайного подмножества признаков в BaggingClassifier и добавить его в DecisionTreeClassifier. Какой параметр за это отвечает, можно понять из документации sklearn, либо просто попробовать угадать (скорее всего, у вас сразу получится). Попробуйте выбирать опять же d^(1/2)\n",
    "​\t  признаков. Качество полученного классификатора на контрольной выборке и будет ответом в пункте 4."
   ]
  },
  {
   "cell_type": "code",
   "execution_count": 16,
   "metadata": {},
   "outputs": [],
   "source": [
    "random_tree = DecisionTreeClassifier(max_features = features)"
   ]
  },
  {
   "cell_type": "code",
   "execution_count": 17,
   "metadata": {},
   "outputs": [],
   "source": [
    "random_bagging_tree = ensemble.BaggingClassifier(random_tree, n_estimators = 100)"
   ]
  },
  {
   "cell_type": "code",
   "execution_count": 18,
   "metadata": {},
   "outputs": [],
   "source": [
    "random_scoreBagging = cross_val_score(random_bagging_tree, X, y, cv = 10)"
   ]
  },
  {
   "cell_type": "code",
   "execution_count": 19,
   "metadata": {},
   "outputs": [
    {
     "name": "stdout",
     "output_type": "stream",
     "text": [
      "score для бэггинга с случайными признаками (которые выбираются при построении каждой вершины дерева)\n",
      "0.9543918191207024\n"
     ]
    }
   ],
   "source": [
    "print \"score для бэггинга с случайными признаками (которые выбираются при построении каждой вершины дерева)\"\n",
    "print random_scoreBagging.mean()\n",
    "\n",
    "write_answer(random_scoreBagging.mean(), \"task_4\") # ответ на 4 вопрос"
   ]
  },
  {
   "cell_type": "markdown",
   "metadata": {},
   "source": [
    "## Задание 5"
   ]
  },
  {
   "cell_type": "code",
   "execution_count": 20,
   "metadata": {},
   "outputs": [],
   "source": [
    "randomTrees = ensemble.RandomForestClassifier(n_estimators = 100, max_features = features)"
   ]
  },
  {
   "cell_type": "code",
   "execution_count": 21,
   "metadata": {},
   "outputs": [],
   "source": [
    "score_randomTrees = cross_val_score(randomTrees, X, y, cv = 10)"
   ]
  },
  {
   "cell_type": "code",
   "execution_count": 22,
   "metadata": {},
   "outputs": [
    {
     "name": "stdout",
     "output_type": "stream",
     "text": [
      "score для случайного леса:\n",
      "0.9527953447889457\n"
     ]
    }
   ],
   "source": [
    "print \"score для случайного леса:\"\n",
    "print score_randomTrees.mean()"
   ]
  },
  {
   "cell_type": "markdown",
   "metadata": {},
   "source": [
    "### Построим кривую зависимости результата от размера обучающей выборки "
   ]
  },
  {
   "cell_type": "code",
   "execution_count": 23,
   "metadata": {},
   "outputs": [],
   "source": [
    "from sklearn.model_selection import learning_curve"
   ]
  },
  {
   "cell_type": "code",
   "execution_count": 24,
   "metadata": {},
   "outputs": [],
   "source": [
    "rf_classifier = ensemble.RandomForestClassifier(n_estimators = 100, max_depth = 3, random_state = 1)"
   ]
  },
  {
   "cell_type": "code",
   "execution_count": 25,
   "metadata": {},
   "outputs": [],
   "source": [
    "train_size, train_scores, test_scores = learning_curve(rf_classifier, X, y, train_sizes = np.arange(0.1, 1., 0.2),\n",
    "                                                       cv = 3, scoring = 'accuracy')"
   ]
  },
  {
   "cell_type": "code",
   "execution_count": 26,
   "metadata": {},
   "outputs": [
    {
     "name": "stdout",
     "output_type": "stream",
     "text": [
      "[ 119  358  597  836 1075]\n",
      "[0.98879552 0.97020484 0.94360692 0.93221691 0.9103876 ]\n",
      "[0.73342081 0.80685861 0.8435978  0.83798829 0.84803588]\n"
     ]
    }
   ],
   "source": [
    "print train_size\n",
    "print train_scores.mean(axis = 1)\n",
    "print test_scores.mean(axis = 1)"
   ]
  },
  {
   "cell_type": "code",
   "execution_count": 27,
   "metadata": {},
   "outputs": [
    {
     "data": {
      "text/plain": [
       "<matplotlib.legend.Legend at 0x1a1c257390>"
      ]
     },
     "execution_count": 27,
     "metadata": {},
     "output_type": "execute_result"
    },
    {
     "data": {
      "image/png": "[encoded data removed]",
      "text/plain": [
       "<Figure size 432x288 with 1 Axes>"
      ]
     },
     "metadata": {
      "needs_background": "light"
     },
     "output_type": "display_data"
    }
   ],
   "source": [
    "pylab.grid(True)\n",
    "pylab.plot(train_size, train_scores.mean(axis = 1), 'g-', marker = 'o', label = 'train')\n",
    "pylab.plot(train_size, test_scores.mean(axis = 1), 'r-', marker = 'o', label = 'test')\n",
    "pylab.legend(loc = 'lower right')"
   ]
  },
  {
   "cell_type": "markdown",
   "metadata": {},
   "source": [
    "### Качество от количества деревьев"
   ]
  },
  {
   "cell_type": "code",
   "execution_count": 50,
   "metadata": {},
   "outputs": [
    {
     "data": {
      "text/plain": [
       "<matplotlib.legend.Legend at 0x1a1d1a5ed0>"
      ]
     },
     "execution_count": 50,
     "metadata": {},
     "output_type": "execute_result"
    },
    {
     "data": {
      "image/png": "[encoded data removed]",
      "text/plain": [
       "<Figure size 432x288 with 1 Axes>"
      ]
     },
     "metadata": {
      "needs_background": "light"
     },
     "output_type": "display_data"
    }
   ],
   "source": [
    "estimators = np.arange(100, 1000, 100) # массив кол-ва деревьев\n",
    "scores = []\n",
    "\n",
    "pylab.grid(True)\n",
    "for estimator in estimators:\n",
    "    rf_classifier = ensemble.RandomForestClassifier(n_estimators = estimator, max_depth = 3, random_state = 1)\n",
    "    score = cross_val_score(randomTrees, X, y, cv = 3, n_jobs = -1)\n",
    "    scores.append(score.mean())\n",
    "pylab.plot(estimators, scores, marker = 'o')\n",
    "pylab.xlabel('forest size')\n",
    "pylab.ylabel('accuracy')\n",
    "pylab.legend()"
   ]
  },
  {
   "cell_type": "code",
   "execution_count": 51,
   "metadata": {},
   "outputs": [
    {
     "name": "stdout",
     "output_type": "stream",
     "text": [
      "лучший результат:\n",
      "0.9432069700327395\n"
     ]
    }
   ],
   "source": [
    "print 'лучший результат:'\n",
    "print max(scores)"
   ]
  },
  {
   "cell_type": "markdown",
   "metadata": {},
   "source": [
    "### Качество от количества признаков при построении вершин деревьев"
   ]
  },
  {
   "cell_type": "code",
   "execution_count": 37,
   "metadata": {},
   "outputs": [
    {
     "data": {
      "text/plain": [
       "<matplotlib.legend.Legend at 0x1a1c5e1490>"
      ]
     },
     "execution_count": 37,
     "metadata": {},
     "output_type": "execute_result"
    },
    {
     "data": {
      "image/png": "[encoded data removed]",
      "text/plain": [
       "<Figure size 432x288 with 1 Axes>"
      ]
     },
     "metadata": {
      "needs_background": "light"
     },
     "output_type": "display_data"
    }
   ],
   "source": [
    "features = np.linspace(1, X.shape[1], 5)\n",
    "scores = []\n",
    "\n",
    "for feature in features:\n",
    "    rf_classifier = ensemble.RandomForestClassifier(n_estimators = 100, max_depth = 3,\n",
    "                                                    max_features = feature, random_state = 1)\n",
    "    score = cross_val_score(randomTrees, X, y, cv = 3, n_jobs = -1)\n",
    "    scores.append(score.mean())\n",
    "pylab.plot(features, scores, marker = 'o')\n",
    "pylab.xlabel('features')\n",
    "pylab.ylabel('accuracy')\n",
    "pylab.legend()"
   ]
  },
  {
   "cell_type": "code",
   "execution_count": 38,
   "metadata": {},
   "outputs": [
    {
     "name": "stdout",
     "output_type": "stream",
     "text": [
      "лучший результат:\n",
      "0.9443200756764307\n"
     ]
    }
   ],
   "source": [
    "print 'лучший результат:'\n",
    "print max(scores)"
   ]
  },
  {
   "cell_type": "markdown",
   "metadata": {},
   "source": [
    "### Качество от глубины деревьев"
   ]
  },
  {
   "cell_type": "code",
   "execution_count": 39,
   "metadata": {},
   "outputs": [
    {
     "data": {
      "text/plain": [
       "<matplotlib.legend.Legend at 0x1a1c1f71d0>"
      ]
     },
     "execution_count": 39,
     "metadata": {},
     "output_type": "execute_result"
    },
    {
     "data": {
      "image/png": "[encoded data removed]",
      "text/plain": [
       "<Figure size 432x288 with 1 Axes>"
      ]
     },
     "metadata": {
      "needs_background": "light"
     },
     "output_type": "display_data"
    }
   ],
   "source": [
    "max_depth = np.linspace(2, 30, 5)\n",
    "scores = []\n",
    "\n",
    "for depth in max_depth:\n",
    "    rf_classifier = ensemble.RandomForestClassifier(n_estimators = 100, max_depth = depth, random_state = 1)\n",
    "    score = cross_val_score(randomTrees, X, y, cv = 3, n_jobs = -1)\n",
    "    scores.append(score.mean())\n",
    "pylab.plot(features, scores, marker = 'o')\n",
    "\n",
    "pylab.xlabel('max_depth')\n",
    "pylab.ylabel('accuracy')\n",
    "pylab.legend()  "
   ]
  },
  {
   "cell_type": "code",
   "execution_count": 40,
   "metadata": {},
   "outputs": [
    {
     "name": "stdout",
     "output_type": "stream",
     "text": [
      "лучший результат:\n",
      "0.9432292391560909\n"
     ]
    }
   ],
   "source": [
    "print 'лучший результат:'\n",
    "print max(scores)"
   ]
  },
  {
   "cell_type": "markdown",
   "metadata": {},
   "source": [
    "### Теперь найдем при помощи GridSearchCV лучшие параметры"
   ]
  },
  {
   "cell_type": "code",
   "execution_count": 41,
   "metadata": {},
   "outputs": [],
   "source": [
    "from sklearn.model_selection import GridSearchCV"
   ]
  },
  {
   "cell_type": "code",
   "execution_count": 42,
   "metadata": {},
   "outputs": [],
   "source": [
    "param_grid = {'n_estimators' : [500, 700],\n",
    "              'max_depth' : [5, 15],\n",
    "              'max_features' : [1, 30]}"
   ]
  },
  {
   "cell_type": "code",
   "execution_count": 43,
   "metadata": {},
   "outputs": [
    {
     "data": {
      "text/plain": [
       "GridSearchCV(cv=3, error_score='raise-deprecating',\n",
       "       estimator=RandomForestClassifier(bootstrap=True, class_weight=None, criterion='gini',\n",
       "            max_depth=None, max_features='auto', max_leaf_nodes=None,\n",
       "            min_impurity_decrease=0.0, min_impurity_split=None,\n",
       "            min_samples_leaf=1, min_samples_split=2,\n",
       "            min_weight_fraction_leaf=0.0, n_estimators='warn', n_jobs=None,\n",
       "            oob_score=False, random_state=None, verbose=0,\n",
       "            warm_start=False),\n",
       "       fit_params=None, iid='warn', n_jobs=-1,\n",
       "       param_grid={'n_estimators': [500, 700], 'max_features': [1, 30], 'max_depth': [5, 15]},\n",
       "       pre_dispatch='2*n_jobs', refit=True, return_train_score='warn',\n",
       "       scoring=None, verbose=0)"
      ]
     },
     "execution_count": 43,
     "metadata": {},
     "output_type": "execute_result"
    }
   ],
   "source": [
    "rf_classifier = ensemble.RandomForestClassifier()\n",
    "optimizer = GridSearchCV(rf_classifier, param_grid, cv = 3, n_jobs = -1)\n",
    "optimizer.fit(X, y)"
   ]
  },
  {
   "cell_type": "code",
   "execution_count": 44,
   "metadata": {},
   "outputs": [
    {
     "name": "stdout",
     "output_type": "stream",
     "text": [
      "{'max_features': 1, 'n_estimators': 500, 'max_depth': 15}\n",
      "0.9488035614913745\n"
     ]
    }
   ],
   "source": [
    "print optimizer.best_params_\n",
    "print optimizer.best_score_"
   ]
  },
  {
   "cell_type": "markdown",
   "metadata": {},
   "source": [
    "## Ответ на 5 задание"
   ]
  },
  {
   "cell_type": "code",
   "execution_count": 58,
   "metadata": {},
   "outputs": [],
   "source": [
    "with open(\"task_5\", \"w\") as fout:\n",
    "        fout.write(\" \".join(['2', '3', '4', '7']))"
   ]
  }
 ],
 "metadata": {
  "kernelspec": {
   "display_name": "Python 3",
   "language": "python",
   "name": "python3"
  },
  "language_info": {
   "codemirror_mode": {
    "name": "ipython",
    "version": 3
   },
   "file_extension": ".py",
   "mimetype": "text/x-python",
   "name": "python",
   "nbconvert_exporter": "python",
   "pygments_lexer": "ipython3",
   "version": "3.7.5"
  }
 },
 "nbformat": 4,
 "nbformat_minor": 2
}
