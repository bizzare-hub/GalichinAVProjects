{
 "cells": [
  {
   "cell_type": "code",
   "execution_count": 6,
   "metadata": {},
   "outputs": [],
   "source": [
    "import pandas as pd\n",
    "import numpy as np"
   ]
  },
  {
   "cell_type": "markdown",
   "metadata": {},
   "source": [
    "### Задание:\n",
    "    Восстановить коэффициенты a, b, c функции f(x), зная ее значения точек на некотором наборе\n",
    "    \n",
    "    ф-ция: (a*sinx + b*lnx)^2 + cx^2\n",
    "    \n",
    "### Решение:\n",
    "    Раскроем скобки, в итоге получим:\n",
    "    \n",
    "    f(x) = a^2 * (sinx)^2 + 2ab * (sinx * lnx) + b^2 * lnx + c * x^2\n",
    "    \n",
    "    В итоге можно рассматривать это как задачу регрессии с признаками ф-ций от х, стоящих при коэффициентах. Подобрав соответствующие коэффициенты, потом можем найти a, b, c из простой системы уравнений.\n",
    "    \n",
    "### Еще один вариант решения:\n",
    "    Вручную минимизировать MSE при помощи градиентного спуска для параметров a, b, c. При этом возникают проблемы медленной сходимости вследствии больших значений ф-ций -> больших шагов -> маленкий learning rate (~1e-5)"
   ]
  },
  {
   "cell_type": "code",
   "execution_count": 5,
   "metadata": {},
   "outputs": [
    {
     "name": "stdout",
     "output_type": "stream",
     "text": [
      "(1000, 2)\n"
     ]
    },
    {
     "data": {
      "text/html": [
       "<div>\n",
       "<style scoped>\n",
       "    .dataframe tbody tr th:only-of-type {\n",
       "        vertical-align: middle;\n",
       "    }\n",
       "\n",
       "    .dataframe tbody tr th {\n",
       "        vertical-align: top;\n",
       "    }\n",
       "\n",
       "    .dataframe thead th {\n",
       "        text-align: right;\n",
       "    }\n",
       "</style>\n",
       "<table border=\"1\" class=\"dataframe\">\n",
       "  <thead>\n",
       "    <tr style=\"text-align: right;\">\n",
       "      <th></th>\n",
       "      <th>x</th>\n",
       "      <th>f</th>\n",
       "    </tr>\n",
       "  </thead>\n",
       "  <tbody>\n",
       "    <tr>\n",
       "      <th>0</th>\n",
       "      <td>9.481538</td>\n",
       "      <td>394.853787</td>\n",
       "    </tr>\n",
       "    <tr>\n",
       "      <th>1</th>\n",
       "      <td>6.878546</td>\n",
       "      <td>238.295702</td>\n",
       "    </tr>\n",
       "    <tr>\n",
       "      <th>2</th>\n",
       "      <td>9.436524</td>\n",
       "      <td>393.053669</td>\n",
       "    </tr>\n",
       "    <tr>\n",
       "      <th>3</th>\n",
       "      <td>3.572694</td>\n",
       "      <td>55.666155</td>\n",
       "    </tr>\n",
       "    <tr>\n",
       "      <th>4</th>\n",
       "      <td>1.079596</td>\n",
       "      <td>13.537515</td>\n",
       "    </tr>\n",
       "  </tbody>\n",
       "</table>\n",
       "</div>"
      ],
      "text/plain": [
       "          x           f\n",
       "0  9.481538  394.853787\n",
       "1  6.878546  238.295702\n",
       "2  9.436524  393.053669\n",
       "3  3.572694   55.666155\n",
       "4  1.079596   13.537515"
      ]
     },
     "execution_count": 5,
     "metadata": {},
     "output_type": "execute_result"
    }
   ],
   "source": [
    "data = pd.read_csv('data.csv', names=['x', 'f'])\n",
    "print(data.shape)\n",
    "data.head()"
   ]
  },
  {
   "cell_type": "markdown",
   "metadata": {},
   "source": [
    "### Формируем задачу линейной регрессии"
   ]
  },
  {
   "cell_type": "code",
   "execution_count": 51,
   "metadata": {},
   "outputs": [
    {
     "name": "stdout",
     "output_type": "stream",
     "text": [
      "(1000, 4)\n"
     ]
    },
    {
     "data": {
      "text/html": [
       "<div>\n",
       "<style scoped>\n",
       "    .dataframe tbody tr th:only-of-type {\n",
       "        vertical-align: middle;\n",
       "    }\n",
       "\n",
       "    .dataframe tbody tr th {\n",
       "        vertical-align: top;\n",
       "    }\n",
       "\n",
       "    .dataframe thead th {\n",
       "        text-align: right;\n",
       "    }\n",
       "</style>\n",
       "<table border=\"1\" class=\"dataframe\">\n",
       "  <thead>\n",
       "    <tr style=\"text-align: right;\">\n",
       "      <th></th>\n",
       "      <th>1</th>\n",
       "      <th>2</th>\n",
       "      <th>3</th>\n",
       "      <th>4</th>\n",
       "    </tr>\n",
       "  </thead>\n",
       "  <tbody>\n",
       "    <tr>\n",
       "      <th>0</th>\n",
       "      <td>0.003218</td>\n",
       "      <td>-0.127604</td>\n",
       "      <td>5.059560</td>\n",
       "      <td>89.899560</td>\n",
       "    </tr>\n",
       "    <tr>\n",
       "      <th>1</th>\n",
       "      <td>0.314505</td>\n",
       "      <td>1.081466</td>\n",
       "      <td>3.718755</td>\n",
       "      <td>47.314402</td>\n",
       "    </tr>\n",
       "    <tr>\n",
       "      <th>2</th>\n",
       "      <td>0.000138</td>\n",
       "      <td>-0.026365</td>\n",
       "      <td>5.038174</td>\n",
       "      <td>89.047994</td>\n",
       "    </tr>\n",
       "    <tr>\n",
       "      <th>3</th>\n",
       "      <td>0.174616</td>\n",
       "      <td>-0.532084</td>\n",
       "      <td>1.621343</td>\n",
       "      <td>12.764139</td>\n",
       "    </tr>\n",
       "    <tr>\n",
       "      <th>4</th>\n",
       "      <td>0.777513</td>\n",
       "      <td>0.067532</td>\n",
       "      <td>0.005866</td>\n",
       "      <td>1.165527</td>\n",
       "    </tr>\n",
       "  </tbody>\n",
       "</table>\n",
       "</div>"
      ],
      "text/plain": [
       "          1         2         3          4\n",
       "0  0.003218 -0.127604  5.059560  89.899560\n",
       "1  0.314505  1.081466  3.718755  47.314402\n",
       "2  0.000138 -0.026365  5.038174  89.047994\n",
       "3  0.174616 -0.532084  1.621343  12.764139\n",
       "4  0.777513  0.067532  0.005866   1.165527"
      ]
     },
     "execution_count": 51,
     "metadata": {},
     "output_type": "execute_result"
    }
   ],
   "source": [
    "train = pd.DataFrame({'1': np.sin(data.x) ** 2, '2': np.sin(data.x) * np.log(data.x),\n",
    "                      '3': np.log(data.x) ** 2, '4': data.x ** 2})\n",
    "test = pd.DataFrame({'label': data.f})\n",
    "print(train.shape)\n",
    "train.head()"
   ]
  },
  {
   "cell_type": "markdown",
   "metadata": {},
   "source": [
    "### Обучаем линейную регрессию"
   ]
  },
  {
   "cell_type": "code",
   "execution_count": 52,
   "metadata": {},
   "outputs": [],
   "source": [
    "from sklearn.linear_model import LinearRegression\n",
    "\n",
    "from sklearn.metrics import mean_absolute_error"
   ]
  },
  {
   "cell_type": "code",
   "execution_count": 53,
   "metadata": {},
   "outputs": [
    {
     "data": {
      "text/plain": [
       "LinearRegression(copy_X=True, fit_intercept=True, n_jobs=None, normalize=False)"
      ]
     },
     "execution_count": 53,
     "metadata": {},
     "output_type": "execute_result"
    }
   ],
   "source": [
    "lr = LinearRegression(fit_intercept=True)\n",
    "lr.fit(train, test)"
   ]
  },
  {
   "cell_type": "code",
   "execution_count": 54,
   "metadata": {},
   "outputs": [
    {
     "data": {
      "text/plain": [
       "0.018025349984077274"
      ]
     },
     "execution_count": 54,
     "metadata": {},
     "output_type": "execute_result"
    }
   ],
   "source": [
    "y_pred = lr.predict(train)\n",
    "mean_absolute_error(test, y_pred)"
   ]
  },
  {
   "cell_type": "code",
   "execution_count": 55,
   "metadata": {},
   "outputs": [
    {
     "data": {
      "text/plain": [
       "array([ 9.87046009, 17.07978656,  7.38985564,  3.99995786])"
      ]
     },
     "execution_count": 55,
     "metadata": {},
     "output_type": "execute_result"
    }
   ],
   "source": [
    "coefs = np.squeeze(lr.coef_)\n",
    "coefs"
   ]
  },
  {
   "cell_type": "code",
   "execution_count": 56,
   "metadata": {},
   "outputs": [],
   "source": [
    "a, b, c = np.sqrt(coefs[0]), np.sqrt(coefs[2]),  coefs[3]"
   ]
  },
  {
   "cell_type": "code",
   "execution_count": 60,
   "metadata": {},
   "outputs": [
    {
     "name": "stdout",
     "output_type": "stream",
     "text": [
      "[3.141728838215596, 2.718428892528896, 3.9999578643356006]\n"
     ]
    }
   ],
   "source": [
    "print([a, b, c])"
   ]
  }
 ],
 "metadata": {
  "kernelspec": {
   "display_name": "Python 3",
   "language": "python",
   "name": "python3"
  },
  "language_info": {
   "codemirror_mode": {
    "name": "ipython",
    "version": 3
   },
   "file_extension": ".py",
   "mimetype": "text/x-python",
   "name": "python",
   "nbconvert_exporter": "python",
   "pygments_lexer": "ipython3",
   "version": "3.7.7"
  }
 },
 "nbformat": 4,
 "nbformat_minor": 4
}
